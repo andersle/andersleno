{
 "cells": [
  {
   "cell_type": "markdown",
   "id": "257784a0",
   "metadata": {},
   "source": [
    "# Example: Caffeine\n",
    "\n",
    "This is a short example of using [RDKit](https://www.rdkit.org/) together with [py3Dmol](https://pypi.org/project/py3Dmol/) for visualizing molecules.\n",
    "\n",
    "First, import RDKit and py3Dmol. I use [rdkit.Chem.rdCoordGen](https://www.rdkit.org/docs/Cookbook.html#using-coordgen-library) since I like the structures RDKit draws based on this."
   ]
  },
  {
   "cell_type": "code",
   "execution_count": null,
   "id": "d59ed0f0",
   "metadata": {},
   "outputs": [],
   "source": [
    "from rdkit import Chem\n",
    "from rdkit.Chem import (\n",
    "    AllChem,\n",
    "    rdCoordGen,\n",
    ")\n",
    "from rdkit.Chem.Draw import IPythonConsole\n",
    "IPythonConsole.ipython_useSVG=True  # Use higher quality images for molecules\n",
    "import py3Dmol"
   ]
  },
  {
   "cell_type": "markdown",
   "id": "63a56b53",
   "metadata": {},
   "source": [
    "Create [caffeine](https://en.wikipedia.org/wiki/Caffeine) from smiles and draw the molecule with RDKit:"
   ]
  },
  {
   "cell_type": "code",
   "execution_count": null,
   "id": "251afb99",
   "metadata": {},
   "outputs": [],
   "source": [
    "caffeine = Chem.MolFromSmiles(\"CN1C=NC2=C1C(=O)N(C(=O)N2C)C\")\n",
    "rdCoordGen.AddCoords(caffeine)\n",
    "caffeine"
   ]
  },
  {
   "cell_type": "markdown",
   "id": "50a1afd7",
   "metadata": {},
   "source": [
    "Use [RDKit to generate 3D-coordinates](https://www.rdkit.org/docs/GettingStartedInPython.html#writing-molecules) for caffeine:"
   ]
  },
  {
   "cell_type": "code",
   "execution_count": null,
   "id": "0d0b7e5b",
   "metadata": {},
   "outputs": [],
   "source": [
    "def molecule_to_3d(molecule):\n",
    "    mol = Chem.Mol(molecule)\n",
    "    mol = AllChem.AddHs(mol, addCoords=True)\n",
    "    AllChem.EmbedMolecule(mol)\n",
    "    AllChem.MMFFOptimizeMolecule(mol)\n",
    "    return mol\n",
    "\n",
    "caffeine_3d = molecule_to_3d(caffeine)"
   ]
  },
  {
   "cell_type": "markdown",
   "id": "561dbe2b",
   "metadata": {},
   "source": [
    "Display the molecule with py3Dmol, using [stick and sphere](https://3dmol.csb.pitt.edu/doc/types.html#AtomStyleSpec):"
   ]
  },
  {
   "cell_type": "code",
   "execution_count": null,
   "id": "af4aecca",
   "metadata": {},
   "outputs": [],
   "source": [
    "view = py3Dmol.view(\n",
    "    data=Chem.MolToMolBlock(caffeine_3d),  # Convert the RDKit molecule for py3Dmol\n",
    "    style={\"stick\": {}, \"sphere\": {\"scale\": 0.3}}\n",
    ")\n",
    "view.zoomTo()"
   ]
  }
 ],
 "metadata": {
  "kernelspec": {
   "display_name": "Python 3 (ipykernel)",
   "language": "python",
   "name": "python3"
  },
  "language_info": {
   "codemirror_mode": {
    "name": "ipython",
    "version": 3
   },
   "file_extension": ".py",
   "mimetype": "text/x-python",
   "name": "python",
   "nbconvert_exporter": "python",
   "pygments_lexer": "ipython3",
   "version": "3.9.13"
  }
 },
 "nbformat": 4,
 "nbformat_minor": 5
}
