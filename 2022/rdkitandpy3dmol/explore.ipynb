{
 "cells": [
  {
   "cell_type": "markdown",
   "id": "560fa35f",
   "metadata": {},
   "source": [
    "# Creating a molecule \"explorer\"\n",
    "\n",
    "In this notebook, I use [ipywidgets](https://ipywidgets.readthedocs.io/en/stable/) to create an interactive molecule explorer. This can, for instance, be useful if we have a data set containing a lot of molecules and we want to visualize the molecules."
   ]
  },
  {
   "cell_type": "code",
   "execution_count": null,
   "id": "fc948d7f",
   "metadata": {},
   "outputs": [],
   "source": [
    "import pandas as pd\n",
    "from io import StringIO\n",
    "from rdkit import Chem\n",
    "from rdkit.Chem import (\n",
    "    AllChem,\n",
    "    rdCoordGen,\n",
    ")\n",
    "from rdkit.Chem.Draw import IPythonConsole\n",
    "\n",
    "IPythonConsole.ipython_useSVG = True  # Use higher quality images for molecules\n",
    "import py3Dmol\n",
    "from ipywidgets import interact, Dropdown"
   ]
  },
  {
   "cell_type": "code",
   "execution_count": null,
   "id": "572967a5",
   "metadata": {},
   "outputs": [],
   "source": [
    "data_set = StringIO(\n",
    "    \"\"\"names,smiles\n",
    "Amigdalin,N#CC(OC1OC(COC2OC(CO)C(O)C(O)C2O)C(O)C(O)C1O)c1ccccc1\n",
    "Fenfuram,Cc1occc1C(=O)Nc1ccccc1\n",
    "citral,CC(C)=CCCC(C)=CC=O\n",
    "Picene,c1ccc2c(c1)ccc1c2ccc2c3ccccc3ccc21\n",
    "Thiophene,c1ccsc1\n",
    "benzothiazole,c1ccc2scnc2c1\n",
    "\"2,2,4,6,6'-PCB\",Clc1cc(Cl)c(-c2c(Cl)cccc2Cl)c(Cl)c1\n",
    "Estradiol,CC12CCC3c4ccc(O)cc4CCC3C1CCC2O\n",
    "Dieldrin,ClC1=C(Cl)C2(Cl)C3C4CC(C5OC45)C3C1(Cl)C2(Cl)Cl\n",
    "Rotenone,C=C(C)C1Cc2c(ccc3c2OC2COc4cc(OC)c(OC)cc4C2C3=O)O1\n",
    "2-pyrrolidone,O=C1CCCN1\n",
    "2-Chloronapthalene,Clc1ccc2ccccc2c1\n",
    "1-Pentene ,C=CCCC\n",
    "Primidone,CCC1(c2ccccc2)C(=O)NCNC1=O\n",
    "Tetradecane,CCCCCCCCCCCCCC\n",
    "2-Chloropropane,CC(C)Cl\n",
    "2-Methylbutanol,CCC(C)CO\n",
    "Benzonitrile,N#Cc1ccccc1\n",
    "Diazinon,CCOP(=S)(OCC)Oc1cc(C)nc(C(C)C)n1\n",
    "2-Undecanol,CCCCCCCCCC(C)O\"\"\"\n",
    ")"
   ]
  },
  {
   "cell_type": "code",
   "execution_count": null,
   "id": "1dc0774c",
   "metadata": {},
   "outputs": [],
   "source": [
    "table = pd.read_csv(data_set)\n",
    "table"
   ]
  },
  {
   "cell_type": "code",
   "execution_count": null,
   "id": "89e7a6ee",
   "metadata": {},
   "outputs": [],
   "source": [
    "def molecule_to_3d(molecule):\n",
    "    \"\"\"Add 3D coordinates for RDKit molecules.\"\"\"\n",
    "    mol = Chem.Mol(molecule)\n",
    "    mol = AllChem.AddHs(mol, addCoords=True)\n",
    "    AllChem.EmbedMolecule(mol)\n",
    "    AllChem.MMFFOptimizeMolecule(mol)\n",
    "    return mol\n",
    "\n",
    "\n",
    "def molecules_from_smiles(smiles):\n",
    "    \"\"\"Generate RDKit molecules from smiles.\"\"\"\n",
    "    molecules = []\n",
    "    for smilei in smiles:\n",
    "        mol = Chem.MolFromSmiles(smilei)\n",
    "        rdCoordGen.AddCoords(mol)\n",
    "        molecules.append(mol)\n",
    "    return molecules"
   ]
  },
  {
   "cell_type": "code",
   "execution_count": null,
   "id": "b0dede6d",
   "metadata": {},
   "outputs": [],
   "source": [
    "names = table[\"names\"].values\n",
    "smiles = table[\"smiles\"].values\n",
    "\n",
    "molecules = molecules_from_smiles(smiles)\n",
    "molecules_3d = [molecule_to_3d(i) for i in molecules]"
   ]
  },
  {
   "cell_type": "markdown",
   "id": "d8718eae",
   "metadata": {},
   "source": [
    "Create a [Dropdown](https://ipywidgets.readthedocs.io/en/stable/examples/Widget%20List.html#Dropdown) selector for the 2D structure of the molecules:"
   ]
  },
  {
   "cell_type": "code",
   "execution_count": null,
   "id": "a990efda",
   "metadata": {},
   "outputs": [],
   "source": [
    "def view_2d(molecule):\n",
    "    return molecule\n",
    "\n",
    "\n",
    "molecules_options = [(i, j) for i, j in zip(names, molecules)]\n",
    "\n",
    "dropdown = Dropdown(\n",
    "    options=molecules_options, value=molecules[0], description=\"Molecule:\"\n",
    ")\n",
    "\n",
    "interact(\n",
    "    view_2d,\n",
    "    molecule=dropdown,\n",
    ")"
   ]
  },
  {
   "cell_type": "markdown",
   "id": "a8dcafdd",
   "metadata": {},
   "source": [
    "Create a [Dropdown](https://ipywidgets.readthedocs.io/en/stable/examples/Widget%20List.html#Dropdown) selector for the 3D structure of the molecules:"
   ]
  },
  {
   "cell_type": "code",
   "execution_count": null,
   "id": "b7f09abb",
   "metadata": {},
   "outputs": [],
   "source": [
    "def view_3d(molecule):\n",
    "    view = py3Dmol.view(\n",
    "        data=Chem.MolToMolBlock(molecule),  # Convert the RDKit molecule for py3Dmol\n",
    "        style={\"stick\": {}, \"sphere\": {\"scale\": 0.3}}\n",
    "    )\n",
    "    view.zoomTo()\n",
    "    return view\n",
    "\n",
    "\n",
    "molecules_options = [(i, j) for i, j in zip(names, molecules_3d)]\n",
    "\n",
    "dropdown = Dropdown(\n",
    "    options=molecules_options, value=molecules_3d[0], description=\"Molecule:\"\n",
    ")\n",
    "\n",
    "interact(\n",
    "    view_3d,\n",
    "    molecule=dropdown,\n",
    ")"
   ]
  }
 ],
 "metadata": {
  "kernelspec": {
   "display_name": "Python 3 (ipykernel)",
   "language": "python",
   "name": "python3"
  },
  "language_info": {
   "codemirror_mode": {
    "name": "ipython",
    "version": 3
   },
   "file_extension": ".py",
   "mimetype": "text/x-python",
   "name": "python",
   "nbconvert_exporter": "python",
   "pygments_lexer": "ipython3",
   "version": "3.9.13"
  }
 },
 "nbformat": 4,
 "nbformat_minor": 5
}
