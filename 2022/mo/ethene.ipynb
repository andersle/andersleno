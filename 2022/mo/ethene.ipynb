{
 "cells": [
  {
   "cell_type": "markdown",
   "id": "8a3f35fe",
   "metadata": {},
   "source": [
    "# Calculating molecular orbitals\n",
    "\n",
    "For calculating molecular orbitals, I will run a restricted Hartree Fock calculation with [pyscf](https://pyscf.org/). I will use the geometry that RDKit generates, and I will not optimize the geometry with pyscf here to save some computational time.\n",
    "\n",
    "For visualizing the molecular orbitals, I will calculate both the canonical molecular orbitals and the [intrinsic bond orbitals (IBO)](https://en.wikipedia.org/wiki/Intrinsic_bond_orbitals)."
   ]
  },
  {
   "cell_type": "markdown",
   "id": "3610873f",
   "metadata": {},
   "source": [
    "I begin by importing [RDKit](https://www.rdkit.org/) (used for generating coordinates),\n",
    "[py3Dmol](https://pypi.org/project/py3Dmol/)\n",
    "and [fortecubeview](https://github.com/evangelistalab/fortecubeview) (used for visualization),\n",
    "[matplotlib](https://matplotlib.org/) and [seaborn](https://seaborn.pydata.org/) (used for plotting),\n",
    "[pandas](https://pandas.pydata.org/) and [numpy](https://numpy.org/) (used for some numerics results),\n",
    "and [pyscf](https://pyscf.org/) (used for the quantum mechanics)."
   ]
  },
  {
   "cell_type": "code",
   "execution_count": null,
   "id": "173cff6a",
   "metadata": {},
   "outputs": [],
   "source": [
    "import pathlib\n",
    "\n",
    "# RDKit imports:\n",
    "from rdkit import Chem\n",
    "from rdkit.Chem import (\n",
    "    AllChem,\n",
    "    rdCoordGen,\n",
    ")\n",
    "from rdkit.Chem.Draw import IPythonConsole\n",
    "\n",
    "IPythonConsole.ipython_useSVG = True  # Use higher quality images for molecules\n",
    "\n",
    "# For visualization of molecules and orbitals:\n",
    "import py3Dmol\n",
    "import fortecubeview\n",
    "\n",
    "# pyscf imports:\n",
    "from pyscf import gto, scf, lo, tools\n",
    "\n",
    "# For plotting\n",
    "import matplotlib\n",
    "from matplotlib import pyplot as plt\n",
    "import seaborn as sns\n",
    "\n",
    "%matplotlib inline\n",
    "sns.set_theme(style=\"ticks\", context=\"talk\", palette=\"muted\")\n",
    "\n",
    "# For numerics:\n",
    "import numpy as np\n",
    "import pandas as pd\n",
    "\n",
    "pd.options.display.float_format = \"{:,.3f}\".format"
   ]
  },
  {
   "cell_type": "markdown",
   "id": "a7cf60ed",
   "metadata": {},
   "source": [
    "## Set up the molecule with RDKit"
   ]
  },
  {
   "cell_type": "markdown",
   "id": "e8ba6587",
   "metadata": {},
   "source": [
    "For this example, I will use ethene - it is a simple molecule and from basic chemistry we expect to see a [π-bond](https://en.wikipedia.org/wiki/Pi_bond)."
   ]
  },
  {
   "cell_type": "code",
   "execution_count": null,
   "id": "d651f533",
   "metadata": {},
   "outputs": [],
   "source": [
    "molecule_name = \"ethene\"\n",
    "molecule = Chem.MolFromSmiles(\"C=C\")  # Generate the molecule from smiles\n",
    "molecule"
   ]
  },
  {
   "cell_type": "code",
   "execution_count": null,
   "id": "db3e8ea1",
   "metadata": {},
   "outputs": [],
   "source": [
    "def get_xyz(molecule, optimize=False):\n",
    "    \"\"\"Get xyz-coordinates for the molecule\"\"\"\n",
    "    mol = Chem.Mol(molecule)\n",
    "    mol = AllChem.AddHs(mol, addCoords=True)\n",
    "    AllChem.EmbedMolecule(mol)\n",
    "    if optimize:  # Optimize the molecules with the MM force field:\n",
    "        AllChem.MMFFOptimizeMolecule(mol)\n",
    "    xyz = []\n",
    "    for lines in Chem.MolToXYZBlock(mol).split(\"\\n\")[2:]:\n",
    "        strip = lines.strip()\n",
    "        if strip:\n",
    "            xyz.append(strip)\n",
    "    xyz = \"\\n\".join(xyz)\n",
    "    return mol, xyz"
   ]
  },
  {
   "cell_type": "code",
   "execution_count": null,
   "id": "84f044e0",
   "metadata": {},
   "outputs": [],
   "source": [
    "molecule3d, xyz = get_xyz(molecule)"
   ]
  },
  {
   "cell_type": "code",
   "execution_count": null,
   "id": "3c76ae13",
   "metadata": {},
   "outputs": [],
   "source": [
    "view = py3Dmol.view(\n",
    "    data=Chem.MolToMolBlock(molecule3d),\n",
    "    style={\"stick\": {}, \"sphere\": {\"scale\": 0.3}},\n",
    "    width=300,\n",
    "    height=300,\n",
    ")\n",
    "view.zoomTo()"
   ]
  },
  {
   "cell_type": "markdown",
   "id": "0c9cfd46",
   "metadata": {},
   "source": [
    "## Run pyscf and calculate molecular orbitals"
   ]
  },
  {
   "cell_type": "code",
   "execution_count": null,
   "id": "0870a9d0",
   "metadata": {},
   "outputs": [],
   "source": [
    "def run_calculation(xyz, basis=\"sto-3g\"):\n",
    "    \"\"\"Calculate the energy (+ additional things like MO coefficients) with pyscf.\"\"\"\n",
    "    mol = gto.M(\n",
    "        atom=xyz,\n",
    "        basis=basis,\n",
    "        unit=\"ANG\",\n",
    "        symmetry=True,\n",
    "    )\n",
    "    mol.build()\n",
    "    mf = scf.RHF(mol).run()\n",
    "    return mf, mol"
   ]
  },
  {
   "cell_type": "code",
   "execution_count": null,
   "id": "7c8b2eb9",
   "metadata": {
    "scrolled": true
   },
   "outputs": [],
   "source": [
    "mf, mol = run_calculation(xyz, basis=\"sto-3g\")"
   ]
  },
  {
   "cell_type": "markdown",
   "id": "fef6783d",
   "metadata": {},
   "source": [
    "To show some results from the calculation (for instance energies and contributions to the molecular orbitals)\n",
    "we can make use of `mf.analyze`.\n",
    "This is commented out here to reduce the output."
   ]
  },
  {
   "cell_type": "code",
   "execution_count": null,
   "id": "08c0b3cf",
   "metadata": {},
   "outputs": [],
   "source": [
    "# mf.analyze(verbose=5)"
   ]
  },
  {
   "cell_type": "markdown",
   "id": "a4cf9cc3",
   "metadata": {},
   "source": [
    "We can access the energy and occupancy of the molecular orbitals via the `.mo_energy`\n",
    "and `.mo_occ` attributes:"
   ]
  },
  {
   "cell_type": "code",
   "execution_count": null,
   "id": "bf13773a",
   "metadata": {},
   "outputs": [],
   "source": [
    "table = pd.DataFrame({\"Energy\": mf.mo_energy, \"Occupancy\": mf.mo_occ})\n",
    "table"
   ]
  },
  {
   "cell_type": "markdown",
   "id": "5a84e106",
   "metadata": {},
   "source": [
    "Let us also make a plot of the energy levels:"
   ]
  },
  {
   "cell_type": "code",
   "execution_count": null,
   "id": "76ad2623",
   "metadata": {
    "scrolled": false
   },
   "outputs": [],
   "source": [
    "fig, ax = plt.subplots(constrained_layout=True, figsize=(9, 6))\n",
    "colors = matplotlib.cm.get_cmap(\"tab20\")(np.linspace(0, 1, len(mf.mo_energy)))\n",
    "\n",
    "pos = []\n",
    "for i, (energy, occ) in enumerate(zip(mf.mo_energy, mf.mo_occ)):\n",
    "    left = 3 * i\n",
    "    right = 3 * i + 2.5\n",
    "    length = right - left\n",
    "\n",
    "    (line,) = ax.plot([left, right], [energy, energy], color=colors[i], lw=3)\n",
    "\n",
    "    electron_x, electron_y = None, None\n",
    "    if occ == 2:\n",
    "        electron_x = [left + 0.25 * length, left + 0.75 * length]\n",
    "        electron_y = [energy, energy]\n",
    "    elif occ == 1:\n",
    "        electron_x, electron_y = [left + 0.5], [energy]\n",
    "    if electron_x and electron_y:\n",
    "        ax.scatter(electron_x, electron_y, color=line.get_color())\n",
    "\n",
    "    pos.append(left + 0.5 * length)\n",
    "\n",
    "ax.axhline(y=0, ls=\":\", color=\"k\")\n",
    "ax.set_xticks(pos)\n",
    "ax.set_xticklabels([f\"#{i}\" for i, _ in enumerate(pos)])\n",
    "ax.set(xlabel=\"MO number\", ylabel=\"Energy / a.u.\")\n",
    "sns.despine(fig=fig)"
   ]
  },
  {
   "cell_type": "markdown",
   "id": "2200d9e2",
   "metadata": {},
   "source": [
    "OK, so we have the energies and occupancy. But now, we would like to display the orbitals. The canonical ones are\n",
    "available via `mf.mo_coeff`. For the intrinsic bonding orbitals, we will have to do some additional calculations.\n",
    "This is defined in the method below. In addition, this method will obtain the\n",
    "[localized intrinsic valence virtual orbitals (LIVVO)](https://pubs.acs.org/doi/abs/10.1021/acs.jctc.7b00493):"
   ]
  },
  {
   "cell_type": "code",
   "execution_count": null,
   "id": "d381a443",
   "metadata": {},
   "outputs": [],
   "source": [
    "def get_mo(mf, mol):\n",
    "    \"\"\"Get molecular orbitals\"\"\"\n",
    "    orbitals = {\"canonical\": mf.mo_coeff}\n",
    "\n",
    "    # Get intrinsic bonding orbitals and localized intrinsic valence virtual orbitals (livvo):\n",
    "    orbocc = mf.mo_coeff[:, 0 : mol.nelec[0]]\n",
    "    orbvirt = mf.mo_coeff[:, mol.nelec[0] :]\n",
    "\n",
    "    ovlpS = mol.intor_symmetric(\"int1e_ovlp\")\n",
    "\n",
    "    iaos = lo.iao.iao(mol, orbocc)\n",
    "    iaos = lo.orth.vec_lowdin(iaos, ovlpS)\n",
    "    ibos = lo.ibo.ibo(mol, orbocc, locmethod=\"IBO\")\n",
    "    orbitals[\"ibo\"] = ibos\n",
    "\n",
    "    livvo = lo.vvo.livvo(mol, orbocc, orbvirt)\n",
    "    orbitals[\"livvo\"] = livvo\n",
    "    return orbitals"
   ]
  },
  {
   "cell_type": "code",
   "execution_count": null,
   "id": "3dc6b781",
   "metadata": {},
   "outputs": [],
   "source": [
    "orbitals = get_mo(mf, mol)"
   ]
  },
  {
   "cell_type": "markdown",
   "id": "5ec95d56",
   "metadata": {},
   "source": [
    "## Visualizing the orbitals with py3Dmol and fortecubeview"
   ]
  },
  {
   "cell_type": "markdown",
   "id": "e98b09b6",
   "metadata": {},
   "source": [
    "For visualizing the molecular orbitals, it is convenient to write them as [cube files](http://paulbourke.net/dataformats/cube/). These cube files can be\n",
    "visualized in jupyter by [py3Dmol](https://pypi.org/project/py3Dmol) or [fortecubeview](https://github.com/evangelistalab/fortecubeview), or in external programs such as [VMD](https://www.ks.uiuc.edu/Research/vmd/).\n",
    "\n",
    "Here is a short method to write the cube files for some given molecular orbital coefficients:"
   ]
  },
  {
   "cell_type": "code",
   "execution_count": null,
   "id": "a0f4e4c3",
   "metadata": {},
   "outputs": [],
   "source": [
    "def write_all_coeffs(\n",
    "    mol, coeffs, prefix=\"cmo\", dirname=\".\", margin=5, offset=0\n",
    "):\n",
    "    \"\"\"Write cube files for the given coefficients.\"\"\"\n",
    "    path = pathlib.Path(dirname)\n",
    "    path.mkdir(parents=True, exist_ok=True)\n",
    "\n",
    "    for i in range(coeffs.shape[1]):\n",
    "        outfile = f\"{prefix}_{i+offset:02d}.cube\"\n",
    "        outfile = path / outfile\n",
    "        print(f\"Writing {outfile}\")\n",
    "        tools.cubegen.orbital(mol, outfile, coeffs[:, i], margin=margin)"
   ]
  },
  {
   "cell_type": "markdown",
   "id": "be39c1fd",
   "metadata": {},
   "source": [
    "To write all the canonical molecular orbitals `write_all_coeffs` can be used as follows:"
   ]
  },
  {
   "cell_type": "code",
   "execution_count": null,
   "id": "34669575",
   "metadata": {},
   "outputs": [],
   "source": [
    "# write_all_coeffs(\n",
    "#    mol,\n",
    "#    orbitals[\"canonical\"],\n",
    "#    prefix=f\"{molecule_name}_cmo\",\n",
    "#    dirname=\"cmo\",\n",
    "#    margin=5,\n",
    "# )"
   ]
  },
  {
   "cell_type": "markdown",
   "id": "2ed2e13b",
   "metadata": {},
   "source": [
    "And to write all the IBOs and LIVVOs:"
   ]
  },
  {
   "cell_type": "code",
   "execution_count": null,
   "id": "a24508b0",
   "metadata": {},
   "outputs": [],
   "source": [
    "# write_all_coeffs(\n",
    "#    mol,\n",
    "#    orbitals[\"ibo\"],\n",
    "#    prefix=f\"{molecule_name}_ibo\",\n",
    "#    dirname=\"ibo\",\n",
    "#    margin=5,\n",
    "# )\n",
    "\n",
    "# write_all_coeffs(\n",
    "#    mol,\n",
    "#    orbitals[\"livvo\"],\n",
    "#    prefix=f\"{molecule_name}_livvo\",\n",
    "#    dirname=\"ibo\",\n",
    "#    margin=5,\n",
    "#    offset=orbitals[\"ibo\"].shape[1],\n",
    "# )"
   ]
  },
  {
   "cell_type": "markdown",
   "id": "fd647c28",
   "metadata": {},
   "source": [
    "For simplicity, I will only write the highest occupied orbital and the lowest unoccupied orbital here:"
   ]
  },
  {
   "cell_type": "code",
   "execution_count": null,
   "id": "931003f9",
   "metadata": {},
   "outputs": [],
   "source": [
    "def find_homo_lumo(mf):\n",
    "    lumo = float(\"inf\")\n",
    "    lumo_idx = None\n",
    "    homo = -float(\"inf\")\n",
    "    homo_idx = None\n",
    "    for i, (energy, occ) in enumerate(zip(mf.mo_energy, mf.mo_occ)):\n",
    "        if occ > 0 and energy > homo:\n",
    "            homo = energy\n",
    "            homo_idx = i\n",
    "        if occ == 0 and energy < lumo:\n",
    "            lumo = energy\n",
    "            lumo_idx = i\n",
    "\n",
    "    return homo, homo_idx, lumo, lumo_idx\n",
    "\n",
    "\n",
    "_, homo_idx, _, lumo_idx = find_homo_lumo(mf)\n",
    "print(f\"HOMO (index): {homo_idx}\")\n",
    "print(f\"LUMO (index): {lumo_idx}\")"
   ]
  },
  {
   "cell_type": "code",
   "execution_count": null,
   "id": "a0660881",
   "metadata": {},
   "outputs": [],
   "source": [
    "tools.cubegen.orbital(\n",
    "    mol, \"cmo_homo.cube\", orbitals[\"canonical\"][:, homo_idx], margin=5\n",
    ")\n",
    "tools.cubegen.orbital(\n",
    "    mol, \"cmo_lumo.cube\", orbitals[\"canonical\"][:, lumo_idx], margin=5\n",
    ")\n",
    "tools.cubegen.orbital(mol, \"ibo_homo.cube\", orbitals[\"ibo\"][:, -1], margin=5)\n",
    "tools.cubegen.orbital(\n",
    "    mol, \"livvo_lumo.cube\", orbitals[\"livvo\"][:, 0], margin=5\n",
    ");"
   ]
  },
  {
   "cell_type": "markdown",
   "id": "552876d3",
   "metadata": {},
   "source": [
    "To display the molecular orbitals, [fortecubeview](https://github.com/evangelistalab/fortecubeview) is really convenient as we can give it a directory, and it will load all the cube files in that directory:"
   ]
  },
  {
   "cell_type": "code",
   "execution_count": null,
   "id": "3bcb236a",
   "metadata": {},
   "outputs": [],
   "source": [
    "fortecubeview.plot(path=\".\", sumlevel=0.85)"
   ]
  },
  {
   "cell_type": "markdown",
   "id": "141345e6",
   "metadata": {},
   "source": [
    "We can also use [py3Dmol](https://pypi.org/project/py3Dmol/). First, we read the cube file we want, and then we pass that to py3Dmol:"
   ]
  },
  {
   "cell_type": "code",
   "execution_count": null,
   "id": "ff9c9886",
   "metadata": {},
   "outputs": [],
   "source": [
    "data = None\n",
    "with open(\"ibo_homo.cube\", \"r\") as infile:\n",
    "    data = infile.read()"
   ]
  },
  {
   "cell_type": "code",
   "execution_count": null,
   "id": "7e72a0ae",
   "metadata": {},
   "outputs": [],
   "source": [
    "view = py3Dmol.view()\n",
    "view.addVolumetricData(\n",
    "    data,\n",
    "    \"cube\",\n",
    "    {\n",
    "        \"isoval\": 0.05,\n",
    "        \"smoothness\": 5,\n",
    "        \"opacity\": 0.8,\n",
    "        \"volformat\": \"cube\",\n",
    "        \"color\": \"blue\",\n",
    "    },\n",
    ")\n",
    "view.addVolumetricData(\n",
    "    data,\n",
    "    \"cube\",\n",
    "    {\n",
    "        \"isoval\": -0.05,\n",
    "        \"smoothness\": 5,\n",
    "        \"opacity\": 0.8,\n",
    "        \"volformat\": \"cube\",\n",
    "        \"color\": \"orange\",\n",
    "    },\n",
    ")\n",
    "view.addModel(data, \"cube\")\n",
    "view.setStyle({\"stick\": {}})\n",
    "view.zoomTo()\n",
    "view.show()"
   ]
  }
 ],
 "metadata": {
  "kernelspec": {
   "display_name": "Python 3 (ipykernel)",
   "language": "python",
   "name": "python3"
  },
  "language_info": {
   "codemirror_mode": {
    "name": "ipython",
    "version": 3
   },
   "file_extension": ".py",
   "mimetype": "text/x-python",
   "name": "python",
   "nbconvert_exporter": "python",
   "pygments_lexer": "ipython3",
   "version": "3.9.13"
  }
 },
 "nbformat": 4,
 "nbformat_minor": 5
}
