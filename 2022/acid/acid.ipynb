{
 "cells": [
  {
   "cell_type": "markdown",
   "id": "f75b9308",
   "metadata": {},
   "source": [
    "# Calculating the pH in a weak acid\n",
    "\n",
    "I consider the dissociation of the weak acid HA:\n",
    "\n",
    "$$[\\text{HA}] \\rightleftharpoons [\\text{H}^+] + [\\text{A}^-].$$\n",
    "\n",
    "We have the following equations:\n",
    "\n",
    "\n",
    "* The equilibrium constant for the acid dissociation: $K_\\text{a} = \\frac{[\\text{H}^+] [\\text{A}^-]}{[\\text{HA}]}$.\n",
    "\n",
    "\n",
    "* The equilibrium constant for autoionization of water: $K_\\text{w} =  [\\text{H}^+] [\\text{OH}^-]$.\n",
    "\n",
    "\n",
    "* The mass balance (based on element A): $[\\text{HA}]_0 = [\\text{HA}] + [\\text{A}^-]$,\n",
    "  where $[\\text{HA}]_0$ is the initial concentration of HA.\n",
    "\n",
    "\n",
    "* The electroneutrality: $[\\text{H}^+] = [\\text{A}^-] + [\\text{OH}^-]$.\n",
    "\n",
    "\n",
    "We can rewrite the electroneutrality as $[\\text{A}^-] = [\\text{H}^+] - \\frac{K_\\text{w}}{[\\text{H}^+]}$,\n",
    "combine it with the mass balance and the equilibrium constant to get:\n",
    "\n",
    "$$K_\\text{a} = \\frac{[\\text{H}^+] \\left( [\\text{H}^+] - \\frac{K_\\text{w}}{[\\text{H}^+]}\\right)}{[\\text{HA}]_0 - \\left([\\text{H}^+] - \\frac{K_\\text{w}}{[\\text{H}^+]} \\right)},$$\n",
    "\n",
    "which is an equation with one unknown ($[\\text{H}^+]$) we can solve.\n",
    "\n",
    "We can also recover the\n",
    "usual [General Chemistry 101 formula](https://en.wikipedia.org/wiki/RICE_chart) by\n",
    "assuming that $[\\text{H}^+]^2 \\gg K_\\text{w}$:\n",
    "\n",
    "$$K_\\text{a} \\approx \\frac{[\\text{H}^+]^2}{[\\text{HA}]_0 - [\\text{H}^+]}.$$"
   ]
  },
  {
   "cell_type": "markdown",
   "id": "0f325a7e",
   "metadata": {},
   "source": [
    "## Solving the approximate equation\n",
    "\n",
    "The approximate equation is a quadratic equation, $[\\text{H}^+]^2 + [\\text{H}^+] K_\\text{a} - K_\\text{a} [\\text{HA}]_0 = 0.$ and we can solve it by:"
   ]
  },
  {
   "cell_type": "code",
   "execution_count": null,
   "id": "842f7c25",
   "metadata": {},
   "outputs": [],
   "source": [
    "import numpy as np\n",
    "import warnings"
   ]
  },
  {
   "cell_type": "code",
   "execution_count": null,
   "id": "cecddcbc",
   "metadata": {},
   "outputs": [],
   "source": [
    "@np.vectorize\n",
    "def calculate_ph_approximate(c_ha_zero, ka):\n",
    "    \"\"\"Solve the approximate equation\"\"\"\n",
    "    poly = [1, ka, -ka * c_ha_zero]\n",
    "    discriminant = poly[1] ** 2 - 4 * poly[0] * poly[2]\n",
    "    if discriminant < 0:\n",
    "        raise ValueError(\"No positive roots!\")\n",
    "    # Calculate the positive root:\n",
    "    x = (-poly[1] + np.sqrt(discriminant)) / (2 * poly[0])\n",
    "    return -np.log10(x)"
   ]
  },
  {
   "cell_type": "markdown",
   "id": "ff530809",
   "metadata": {},
   "source": [
    "Let us try this for [Example 15.9.2 from Principles of modern chemistry](https://chem.libretexts.org/Bookshelves/General_Chemistry/Map%3A_Principles_of_Modern_Chemistry_(Oxtoby_et_al.)/Unit_4%3A_Equilibrium_in_Chemical_Reactions/15%3A_AcidBase_Equilibria/15.9%3A_A_Deeper_Look_-_Exact_Treatment_of_Acid-Base_Equilibria) (where the pH is \n",
    "calculated to be 6.65):"
   ]
  },
  {
   "cell_type": "code",
   "execution_count": null,
   "id": "e74357ee",
   "metadata": {},
   "outputs": [],
   "source": [
    "calculate_ph_approximate(0.001, 4.0e-11)"
   ]
  },
  {
   "cell_type": "markdown",
   "id": "e7cd6bd2",
   "metadata": {},
   "source": [
    "The approximate solution is not spot on here, but it is pretty close."
   ]
  },
  {
   "cell_type": "markdown",
   "id": "99121f15",
   "metadata": {},
   "source": [
    "## Solving the full equation\n",
    "\n",
    "The full equation can be rewritten as a cubic equation:\n",
    "\n",
    "$$[\\text{H}^+]^3 + [\\text{H}^+]^2 K_\\text{a} - [\\text{H}^+] \\left(K_\\text{w} + K_\\text{a} [\\text{HA}]_0\\right) - K_\\text{w}K_\\text{a} = 0.$$\n",
    "\n",
    "According to [Descartes' rule](https://en.wikipedia.org/wiki/Descartes%27_rule_of_signs#Example:_real_roots)\n",
    "this equation will have exactly one positive root. We can also use the base constant:\n",
    "\n",
    "$$ [\\text{OH}^-]^3 + [\\text{OH}^-]^2 \\left(K_\\text{b} + [\\text{HA}]_0 \\right) - [\\text{OH}^-] K_\\text{w} - K_\\text{w}K_\\text{b} = 0.$$\n",
    "\n",
    "I will use the first equation and solve for $[\\text{H}^+]$, but if there are some issues with the solution, I\n",
    "will use the equation for $[\\text{OH}^-]$. To check if there are some issues, I define two simple checks below:"
   ]
  },
  {
   "cell_type": "code",
   "execution_count": null,
   "id": "4cddfc70",
   "metadata": {},
   "outputs": [],
   "source": [
    "def check_solution_acid(c_ha_zero, ka, kw, x, print_warning=False):\n",
    "    \"\"\"Do some checks for the solution.\"\"\"\n",
    "    c_OH = kw / x\n",
    "    c_A = x - c_OH\n",
    "    w = 0\n",
    "    if c_A < 0:\n",
    "        if print_warning:\n",
    "            warnings.warn(f\"Unphysical [A-] = {c_A} for {c_ha_zero}, {ka}\")\n",
    "        w += 1\n",
    "    c_HA = c_ha_zero - c_A\n",
    "    if c_HA < 0:\n",
    "        if print_warning:\n",
    "            warnings.warn(f\"Unphysical [HA] = {c_HA} for {c_ha_zero}, {ka}\")\n",
    "        w += 1\n",
    "    ka_ = x * c_A / c_HA\n",
    "    if not np.isclose(ka_, ka, atol=1e-6):\n",
    "        if print_warning:\n",
    "            warnings.warn(\n",
    "                f\"Solution is inconsistent for {c_ha_zero}, {ka_} != {ka}\"\n",
    "            )\n",
    "        w += 1\n",
    "    return w\n",
    "\n",
    "\n",
    "def check_solution_base(c_ha_zero, ka, kw, x, print_warning=False):\n",
    "    \"\"\"Do some checks for the solution.\"\"\"\n",
    "    c_H = kw / x\n",
    "    c_A = c_H - x\n",
    "    w = 0\n",
    "    if c_A < 0:\n",
    "        if print_warning:\n",
    "            warnings.warn(f\"Unphysical [A-] = {c_A} for {c_ha_zero}, {ka}\")\n",
    "        w += 1\n",
    "    c_HA = c_ha_zero - c_A\n",
    "    if c_HA < 0:\n",
    "        if print_warning:\n",
    "            warnings.warn(f\"Unphysical [HA] = {c_HA} for {c_ha_zero}, {ka}\")\n",
    "        w += 1\n",
    "    kb = kw / ka\n",
    "    kb_ = x * c_HA / c_A\n",
    "    if not np.isclose(kb_, kb, atol=1e-6):\n",
    "        if print_warning:\n",
    "            warnings.warn(\n",
    "                f\"Solution is inconsistent for {c_ha_zero}, {kb_} != {kb}\"\n",
    "            )\n",
    "        w += 1\n",
    "    return w"
   ]
  },
  {
   "cell_type": "code",
   "execution_count": null,
   "id": "6494d153",
   "metadata": {},
   "outputs": [],
   "source": [
    "@np.vectorize\n",
    "def calculate_ph_full(c_ha_zero, ka, kw=1e-14):\n",
    "    \"\"\"Solve the full equation\"\"\"\n",
    "    poly_h = [1, ka, -(kw + ka * c_ha_zero), -ka * kw]\n",
    "    roots_h = np.roots(poly_h)\n",
    "    # Select the positive solution:\n",
    "    x_h = roots_h[roots_h > 0][0]\n",
    "    # Do some checks:\n",
    "    w = check_solution_acid(c_ha_zero, ka, kw, x_h, print_warning=False)\n",
    "    if w > 0:  # Fix problems by solving the base equation:\n",
    "        kb = kw / ka\n",
    "        poly_oh = [1, (c_ha_zero + kb), -kw, -kb * kw]\n",
    "        roots_oh = np.roots(poly_oh)\n",
    "        x_oh = roots_oh[roots_oh > 0][0]\n",
    "        x_h = kw / x_oh\n",
    "        check_solution_base(c_ha_zero, ka, kw, x_oh, print_warning=True)\n",
    "    return -np.log10(x_h)"
   ]
  },
  {
   "cell_type": "markdown",
   "id": "11e113ec",
   "metadata": {},
   "source": [
    "I will also try this method for [Example 15.9.2 from Principles of modern chemistry](https://chem.libretexts.org/Bookshelves/General_Chemistry/Map%3A_Principles_of_Modern_Chemistry_(Oxtoby_et_al.)/Unit_4%3A_Equilibrium_in_Chemical_Reactions/15%3A_AcidBase_Equilibria/15.9%3A_A_Deeper_Look_-_Exact_Treatment_of_Acid-Base_Equilibria) (where the pH is \n",
    "calculated to be 6.65):"
   ]
  },
  {
   "cell_type": "code",
   "execution_count": null,
   "id": "b137a089",
   "metadata": {},
   "outputs": [],
   "source": [
    "calculate_ph_full(0.001, 4.0e-11)"
   ]
  },
  {
   "cell_type": "markdown",
   "id": "bac8e919",
   "metadata": {},
   "source": [
    "Ah, this is a more accurate result! I will run some more comparisons below."
   ]
  },
  {
   "cell_type": "markdown",
   "id": "46906295",
   "metadata": {},
   "source": [
    "## Comparing the solutions"
   ]
  },
  {
   "cell_type": "code",
   "execution_count": null,
   "id": "4c90d37a",
   "metadata": {},
   "outputs": [],
   "source": [
    "from matplotlib import pyplot as plt\n",
    "import seaborn as sns\n",
    "import matplotlib as mpl\n",
    "\n",
    "%matplotlib inline\n",
    "\n",
    "mpl.rcParams[\"ytick.minor.visible\"] = True\n",
    "mpl.rcParams[\"xtick.minor.visible\"] = True\n",
    "sns.set_theme(style=\"ticks\", context=\"talk\", palette=\"muted\")"
   ]
  },
  {
   "cell_type": "code",
   "execution_count": null,
   "id": "b8cafb07",
   "metadata": {},
   "outputs": [],
   "source": [
    "ka = [1e-2, 1e-4, 1e-8, 1e-10]\n",
    "concentrations = 10.0 ** np.arange(-12, 3, 1)\n",
    "\n",
    "fig, axes = plt.subplots(\n",
    "    constrained_layout=True, ncols=4, figsize=(12, 3), sharex=True, sharey=True\n",
    ")\n",
    "\n",
    "for kai, axi in zip(ka, axes):\n",
    "    ph_approx = calculate_ph_approximate(concentrations, kai)\n",
    "    ph_full = calculate_ph_full(concentrations, kai)\n",
    "    axi.scatter(-np.log10(concentrations), ph_approx, label=\"Approximate\")\n",
    "    axi.scatter(-np.log10(concentrations), ph_full, label=\"Full solution\")\n",
    "    axi.set(xlabel=\"pC\", title=f\"pKa = {-np.log10(kai)}\")\n",
    "axes[0].set(ylabel=\"pH\")\n",
    "axes[0].legend()\n",
    "sns.despine(fig=fig)"
   ]
  },
  {
   "cell_type": "markdown",
   "id": "5fb047eb",
   "metadata": {},
   "source": [
    "We do get some errors for low concentrations here. Let us investigate a grid of points:"
   ]
  },
  {
   "cell_type": "code",
   "execution_count": null,
   "id": "3585460b",
   "metadata": {},
   "outputs": [],
   "source": [
    "ka = 10.0 ** np.arange(-14, 1, 0.2)\n",
    "concentrations = 10.0 ** np.arange(-14, 2, 0.2)\n",
    "ka_grid, conc_grid = np.meshgrid(ka, concentrations)\n",
    "ph_approx = calculate_ph_approximate(conc_grid, ka_grid)\n",
    "ph_full = calculate_ph_full(conc_grid, ka_grid)\n",
    "error_grid = abs(ph_approx - ph_full) / abs(ph_full)"
   ]
  },
  {
   "cell_type": "code",
   "execution_count": null,
   "id": "39c9a5d3",
   "metadata": {},
   "outputs": [],
   "source": [
    "fig, ax = plt.subplots(constrained_layout=True, figsize=(10, 8))\n",
    "im = ax.contourf(\n",
    "    -np.log10(conc_grid),\n",
    "    -np.log10(ka_grid),\n",
    "    error_grid * 100,\n",
    "    cmap=\"vlag\",\n",
    "    levels=40,\n",
    ")\n",
    "\n",
    "im2 = ax.contour(\n",
    "    -np.log10(conc_grid),\n",
    "    -np.log10(ka_grid),\n",
    "    error_grid * 100,\n",
    "    levels=[1, 10],\n",
    "    colors=\"w\",\n",
    ")\n",
    "\n",
    "ax.clabel(\n",
    "    im2, im2.levels, inline=True, fontsize=\"small\", fmt=\"Error = %.1f %%\"\n",
    ")\n",
    "\n",
    "\n",
    "ax.set(xlabel=\"pC\", ylabel=\"pKa\")\n",
    "\n",
    "ax.scatter(-np.log10(0.001), -np.log10(4e-11), color=\"white\")\n",
    "ax.annotate(\n",
    "    \"Example calculation\",\n",
    "    (-np.log10(0.001), -np.log10(4e-11)),\n",
    "    xytext=(-100, -75),\n",
    "    color=\"white\",\n",
    "    textcoords=\"offset points\",\n",
    "    arrowprops={\"arrowstyle\": \"->\"},\n",
    ")\n",
    "fig.colorbar(im, ax=ax, label=\"Error (%)\")"
   ]
  },
  {
   "cell_type": "markdown",
   "id": "37c9b192",
   "metadata": {},
   "source": [
    "To get an error below 1%:\n",
    "- If the concentration is lower than $10^{-6.7} = 2 \\times 10^{-7}$ we should not use the approximation.\n",
    "- If the concentration is higher than $2 \\times 10^{-7}$ , we can use it as long\n",
    "  as $K_\\text{a} [\\text{HA}]_0 > 3.3 K_\\text{w}$ (that is $\\text{p}K_\\text{a} + \\text{pC} < 13.4$).\n",
    "\n",
    "For the example calculation I did, the error ($\\text{pH} = 6.7$ vs. $\\text{pH} = 6.65$) was\n",
    "around 1% (as can also be seen in the figure above). For this case: $K_\\text{a} [\\text{HA}]_0 = 4 \\times 10^{-14} > 3.3 K_\\text{w}$. Also, from the figure above, the error should be about 10% for a concentration of $10^{-5}$:"
   ]
  },
  {
   "cell_type": "code",
   "execution_count": null,
   "id": "37b66cf8",
   "metadata": {},
   "outputs": [],
   "source": [
    "pH1 = calculate_ph_full(1e-5, 4.0e-11, 1e-14)\n",
    "pH2 = calculate_ph_approximate(1e-5, 4e-11)\n",
    "error = abs(pH2 - pH1) / pH1\n",
    "print(f\"Error = {error*100:.2f}%\")"
   ]
  },
  {
   "cell_type": "markdown",
   "id": "f53deae8",
   "metadata": {},
   "source": [
    "Let us also check how the error varies with the final pH:"
   ]
  },
  {
   "cell_type": "code",
   "execution_count": null,
   "id": "59f73414",
   "metadata": {},
   "outputs": [],
   "source": [
    "fig, ax = plt.subplots(constrained_layout=True, figsize=(8, 6))\n",
    "ax.scatter(ph_full.ravel(), 100.0 * error_grid.ravel(), s=10, zorder=2)\n",
    "ax.set(xlabel=\"pH\", ylabel=\"Error (%)\")\n",
    "ax.axhline(y=1, ls=\":\", color=\"k\", lw=3, label=\"Error = 1%\")\n",
    "idx = np.where(error_grid > 0.01)\n",
    "pH_min = np.min(ph_full[idx])\n",
    "limits = ax.get_xlim()\n",
    "ax.axvspan(\n",
    "    xmin=pH_min,\n",
    "    xmax=max(limits),\n",
    "    lw=3,\n",
    "    label=f\"pH > {pH_min:.2f}\\n(Error > 1%)\",\n",
    "    alpha=0.3,\n",
    "    zorder=1,\n",
    ")\n",
    "\n",
    "ax.set_xlim(limits)\n",
    "ax.legend()\n",
    "\n",
    "sns.despine(fig=fig)"
   ]
  },
  {
   "cell_type": "markdown",
   "id": "0afeed6d",
   "metadata": {},
   "source": [
    "So the text from [Wikipedia](https://en.wikipedia.org/wiki/RICE_chart):\n",
    "\n",
    "> Note that in this example, we are assuming that the acid is not very weak, and that the concentration is\n",
    "> not very dilute, so that the concentration of [OH−] ions can be neglected.\n",
    "> This is equivalent to the assumption that the > final pH will be below about 6 or so.\n",
    "\n",
    "is a nice summary. If we use the quadratic equation and\n",
    "get a pH below 6, then we do not need to put in the extra work with solving the cubic equation. Here is a \n",
    "visualization of that rule:"
   ]
  },
  {
   "cell_type": "code",
   "execution_count": null,
   "id": "0b456219",
   "metadata": {},
   "outputs": [],
   "source": [
    "fig, ax = plt.subplots(constrained_layout=True, figsize=(10, 8))\n",
    "im = ax.contourf(\n",
    "    -np.log10(conc_grid),\n",
    "    -np.log10(ka_grid),\n",
    "    error_grid * 100,\n",
    "    cmap=\"vlag\",\n",
    "    levels=40,\n",
    ")\n",
    "\n",
    "im2 = ax.contour(\n",
    "    -np.log10(conc_grid),\n",
    "    -np.log10(ka_grid),\n",
    "    error_grid * 100,\n",
    "    levels=[1],\n",
    "    colors=\"w\",\n",
    ")\n",
    "\n",
    "ax.clabel(\n",
    "    im2, im2.levels, inline=True, fontsize=\"small\", fmt=\"Error = %.1f %%\"\n",
    ")\n",
    "\n",
    "\n",
    "im3 = ax.contour(\n",
    "    -np.log10(conc_grid),\n",
    "    -np.log10(ka_grid),\n",
    "    ph_full,\n",
    "    levels=[1, 2, 3, 4, 5, 6],\n",
    "    colors=\"w\",\n",
    "    linestyles=\"dashed\",\n",
    ")\n",
    "\n",
    "ax.clabel(im3, im3.levels, inline=True, fontsize=\"small\", fmt=\"pH = %.1f\")\n",
    "\n",
    "ax.set(xlabel=\"pC\", ylabel=\"pKa\")\n",
    "\n",
    "fig.colorbar(im, ax=ax, label=\"Error (%)\")"
   ]
  },
  {
   "cell_type": "markdown",
   "id": "0d8495ec",
   "metadata": {},
   "source": [
    "## Discovering the \"rules\" by a decision tree\n",
    "I found the rules stated above with the following decision tree:"
   ]
  },
  {
   "cell_type": "code",
   "execution_count": null,
   "id": "f724e023",
   "metadata": {},
   "outputs": [],
   "source": [
    "import pandas as pd\n",
    "from sklearn.tree import DecisionTreeClassifier\n",
    "from sklearn.tree import export_graphviz\n",
    "import graphviz"
   ]
  },
  {
   "cell_type": "code",
   "execution_count": null,
   "id": "ff4ac402",
   "metadata": {},
   "outputs": [],
   "source": [
    "data = {\n",
    "    \"ka\": -np.log10(ka_grid.ravel()),\n",
    "    \"conc\": -np.log10(conc_grid.ravel()),\n",
    "    \"ka*cons/kw\": ka_grid.ravel() * conc_grid.ravel() / 1e-14,\n",
    "    \"class\": np.zeros_like(ka_grid.ravel()),\n",
    "}\n",
    "data[\"class\"][error_grid.ravel() > 0.01] = 1\n",
    "data = pd.DataFrame(data)\n",
    "data"
   ]
  },
  {
   "cell_type": "code",
   "execution_count": null,
   "id": "5df9d515",
   "metadata": {},
   "outputs": [],
   "source": [
    "X = data[[\"ka\", \"conc\", \"ka*cons/kw\"]].to_numpy()\n",
    "y = data[\"class\"].to_numpy()\n",
    "tree = DecisionTreeClassifier(max_depth=2, random_state=2)\n",
    "tree.fit(X, y)\n",
    "\n",
    "dot_data = export_graphviz(\n",
    "    tree,\n",
    "    out_file=None,\n",
    "    feature_names=[\"pKa\", \"pC\", \"Ka*cons/Kw\"],\n",
    "    class_names=[\"Approximation OK\", \"Approximation not ok\"],\n",
    "    rounded=True,\n",
    "    filled=True,\n",
    ")\n",
    "from IPython.display import display\n",
    "\n",
    "display(graphviz.Source(dot_data))"
   ]
  }
 ],
 "metadata": {
  "kernelspec": {
   "display_name": "Python 3 (ipykernel)",
   "language": "python",
   "name": "python3"
  },
  "language_info": {
   "codemirror_mode": {
    "name": "ipython",
    "version": 3
   },
   "file_extension": ".py",
   "mimetype": "text/x-python",
   "name": "python",
   "nbconvert_exporter": "python",
   "pygments_lexer": "ipython3",
   "version": "3.9.13"
  }
 },
 "nbformat": 4,
 "nbformat_minor": 5
}
