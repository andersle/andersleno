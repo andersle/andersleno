{
 "cells": [
  {
   "cell_type": "markdown",
   "id": "574d5c07",
   "metadata": {},
   "source": [
    "# Draw Morgan fingerprints"
   ]
  },
  {
   "cell_type": "markdown",
   "id": "3f1cb536",
   "metadata": {},
   "source": [
    "We start by importing RDKit (and matplotlib for showing some colors):"
   ]
  },
  {
   "cell_type": "code",
   "execution_count": null,
   "id": "03e04821",
   "metadata": {},
   "outputs": [],
   "source": [
    "from rdkit import Chem\n",
    "from rdkit.Chem import (\n",
    "    AllChem,\n",
    "    rdCoordGen,\n",
    ")\n",
    "from rdkit.Chem import Draw\n",
    "from rdkit.Chem.Draw import IPythonConsole\n",
    "from matplotlib import pyplot as plt\n",
    "from matplotlib.patches import Rectangle\n",
    "from IPython.display import SVG\n",
    "\n",
    "plt.style.use(\"seaborn-notebook\")\n",
    "IPythonConsole.ipython_useSVG = True  # Use higher quality images for molecules"
   ]
  },
  {
   "cell_type": "markdown",
   "id": "8e06cc56",
   "metadata": {},
   "source": [
    "I will use [niacinamide](https://en.wikipedia.org/wiki/Nicotinamide) as an example. Let us create it from smiles and draw the molecule with RDKit:"
   ]
  },
  {
   "cell_type": "code",
   "execution_count": null,
   "id": "adca8cdd",
   "metadata": {},
   "outputs": [],
   "source": [
    "niacinamide = Chem.MolFromSmiles(\"c1cc(cnc1)C(=O)N\")\n",
    "rdCoordGen.AddCoords(niacinamide)\n",
    "niacinamide"
   ]
  },
  {
   "cell_type": "markdown",
   "id": "e74e195a",
   "metadata": {},
   "source": [
    "And we calculate the [Morgan fingerprint](https://www.rdkit.org/docs/GettingStartedInPython.html#morgan-fingerprints-circular-fingerprints) with a radius of 2:"
   ]
  },
  {
   "cell_type": "code",
   "execution_count": null,
   "id": "c079639b",
   "metadata": {},
   "outputs": [],
   "source": [
    "info = {}\n",
    "fp = AllChem.GetMorganFingerprintAsBitVect(niacinamide, radius=2, bitInfo=info)"
   ]
  },
  {
   "cell_type": "markdown",
   "id": "9bdffab9",
   "metadata": {},
   "source": [
    "RDKit already has methods for depicting bits from fingerprints:"
   ]
  },
  {
   "cell_type": "code",
   "execution_count": null,
   "id": "1e734a58",
   "metadata": {},
   "outputs": [],
   "source": [
    "on_bits = [(niacinamide, i, info) for i in fp.GetOnBits()]\n",
    "labels = [str(i[1]) for i in on_bits]\n",
    "Draw.DrawMorganBits(on_bits, molsPerRow=5, legends=labels)  # Draw the on bits"
   ]
  },
  {
   "cell_type": "markdown",
   "id": "656af49c",
   "metadata": {},
   "source": [
    "Now, we will draw the full molecule and highlight the atoms/bonds that are part of the\n",
    "bit.\n",
    "\n",
    "First, we define the colors to use for the highlighting. Here, I use the colormap of [Okabe & Ito](https://jfly.uni-koeln.de/color/):"
   ]
  },
  {
   "cell_type": "code",
   "execution_count": null,
   "id": "cdebbc1f",
   "metadata": {},
   "outputs": [],
   "source": [
    "COLOR_TUPLES = [\n",
    "    (230, 159, 0),\n",
    "    (86, 180, 233),\n",
    "    (0, 158, 115),\n",
    "    (240, 228, 66),\n",
    "    (0, 114, 178),\n",
    "    (213, 94, 0),\n",
    "    (204, 121, 167),\n",
    "    (204, 204, 204),  # Gray, added by me\n",
    "]\n",
    "COLOR_FRAC = [tuple(x / 255 for x in color) for color in COLOR_TUPLES]\n",
    "COLOR_MAP = {\n",
    "    \"Center atom\": COLOR_FRAC[1],\n",
    "    \"Atom in a ring\": COLOR_FRAC[6],\n",
    "    \"Aromatic atom\": COLOR_FRAC[3],\n",
    "    \"Other atoms\": COLOR_FRAC[7],\n",
    "    \"Bonds\": COLOR_FRAC[7],\n",
    "}\n",
    "\n",
    "fig, ax = plt.subplots(constrained_layout=True)\n",
    "for i, (txt, color) in enumerate(COLOR_MAP.items()):\n",
    "    ax.text(0, i, txt, va=\"center\", fontsize=\"xx-large\", backgroundcolor=color)\n",
    "ax.text(0, 5, \"Colors:\", fontsize=\"xx-large\")\n",
    "ax.set_xlim(0.0, 0.6)\n",
    "ax.set_ylim(-1, 6)\n",
    "ax.axis(\"off\");"
   ]
  },
  {
   "cell_type": "markdown",
   "id": "4831baee",
   "metadata": {},
   "source": [
    "Next, we define some methods that will add colors for us:"
   ]
  },
  {
   "cell_type": "code",
   "execution_count": null,
   "id": "68a88b25",
   "metadata": {},
   "outputs": [],
   "source": [
    "def get_atom_colors(molecule, atoms, centers=None):\n",
    "    \"\"\"Define some colors for different atoms.\"\"\"\n",
    "    colors = {}\n",
    "    for atom in atoms:\n",
    "        if centers is not None and atom in centers:\n",
    "            colors[atom] = COLOR_MAP[\"Center atom\"]\n",
    "        else:\n",
    "            if molecule.GetAtomWithIdx(atom).GetIsAromatic():\n",
    "                colors[atom] = COLOR_MAP[\"Aromatic atom\"]\n",
    "            elif molecule.GetAtomWithIdx(atom).IsInRing():\n",
    "                colors[atom] = COLOR_MAP[\"Atom in a ring\"]\n",
    "            else:\n",
    "                colors[atom] = COLOR_MAP[\"Other atoms\"]\n",
    "    return colors\n",
    "\n",
    "\n",
    "def get_bond_colors(bonds):\n",
    "    \"\"\"Define colors for bonds.\"\"\"\n",
    "    return {bond: COLOR_MAP[\"Bonds\"] for bond in bonds}"
   ]
  },
  {
   "cell_type": "markdown",
   "id": "84bf9cd6",
   "metadata": {},
   "source": [
    "Let us take a look at the fingerprint info we get from the method generating the fingerprint:"
   ]
  },
  {
   "cell_type": "code",
   "execution_count": null,
   "id": "00e271ab",
   "metadata": {},
   "outputs": [],
   "source": [
    "print(info[1043])"
   ]
  },
  {
   "cell_type": "markdown",
   "id": "bc06253c",
   "metadata": {},
   "source": [
    "The bits are a tuple of tuples on the form: `((center, radius),)` where `center` is the index of the center atom, and `radius` is the radius used in the fingerprint. For depicting the fingerprint, we will first grab the environment of the center atom within the radius."
   ]
  },
  {
   "cell_type": "code",
   "execution_count": null,
   "id": "9e65b7c0",
   "metadata": {},
   "outputs": [],
   "source": [
    "def get_environment(molecule, center, radius):\n",
    "    \"\"\"Get the environment of a certain radius around a center atom.\"\"\"\n",
    "    if not molecule.GetNumConformers():\n",
    "        rdDepictor.Compute2DCoords(mol)\n",
    "    env = Chem.FindAtomEnvironmentOfRadiusN(molecule, radius, center)\n",
    "    atoms = set([center])\n",
    "    bonds = set([])\n",
    "    for bond in env:\n",
    "        atoms.add(molecule.GetBondWithIdx(bond).GetBeginAtomIdx())\n",
    "        atoms.add(molecule.GetBondWithIdx(bond).GetEndAtomIdx())\n",
    "        bonds.add(bond)\n",
    "    atoms = list(atoms)\n",
    "    bonds = list(bonds)\n",
    "\n",
    "    atom_colors = get_atom_colors(molecule, atoms, centers=set([center]))\n",
    "    bond_colors = get_bond_colors(bonds)\n",
    "\n",
    "    return atoms, bonds, atom_colors, bond_colors"
   ]
  },
  {
   "cell_type": "markdown",
   "id": "3e381713",
   "metadata": {},
   "source": [
    "Let us try this on bit `1043` where the center was `0` and the radius was `2`:"
   ]
  },
  {
   "cell_type": "code",
   "execution_count": null,
   "id": "58ec3505",
   "metadata": {},
   "outputs": [],
   "source": [
    "atoms, bonds, _, _ = get_environment(niacinamide, 0, 2)\n",
    "print(\"Atoms:\", atoms)\n",
    "print(\"Bonds:\", bonds)"
   ]
  },
  {
   "cell_type": "markdown",
   "id": "45c12882",
   "metadata": {},
   "source": [
    "Let us check that we got the correct atoms and bonds, by labeling them by their index:"
   ]
  },
  {
   "cell_type": "code",
   "execution_count": null,
   "id": "cda60a7d",
   "metadata": {},
   "outputs": [],
   "source": [
    "mol = Chem.Mol(niacinamide)\n",
    "for i in atoms:\n",
    "    mol.GetAtomWithIdx(i).SetProp(\"atomNote\", f\"A-{i}\")\n",
    "for i in bonds:\n",
    "    mol.GetBondWithIdx(i).SetProp(\"bondNote\", f\"B-{i}\")\n",
    "mol.GetAtomWithIdx(0).SetProp(\"atomNote\", f\"A-0 (center)\")\n",
    "canv = Draw.rdMolDraw2D.MolDraw2DSVG(250, 250)  # or MolDraw2DSVG\n",
    "canv.DrawMolecule(\n",
    "    mol,\n",
    "    highlightAtoms=atoms,\n",
    "    highlightBonds=bonds,\n",
    "    highlightBondColors={i: (0.8, 0.8, 0.8) for i in bonds},\n",
    ")\n",
    "canv.FinishDrawing()\n",
    "SVG(canv.GetDrawingText())"
   ]
  },
  {
   "cell_type": "markdown",
   "id": "d1fd9fdc",
   "metadata": {},
   "source": [
    "So, we are able to pick out the correct atoms and bonds. We can also compare with the bit-drawing from RDKit:"
   ]
  },
  {
   "cell_type": "code",
   "execution_count": null,
   "id": "024863db",
   "metadata": {},
   "outputs": [],
   "source": [
    "Draw.DrawMorganBit(niacinamide, 1043, info)"
   ]
  },
  {
   "cell_type": "markdown",
   "id": "d5f3a535",
   "metadata": {},
   "source": [
    "OK, so that seems to work fine. Let us put all that into a method that will draw a selected bit. Since each bit can occur several times in the same molecule, we will draw a grid to handle that:"
   ]
  },
  {
   "cell_type": "code",
   "execution_count": null,
   "id": "fd572799",
   "metadata": {},
   "outputs": [],
   "source": [
    "def draw_molecule_and_bit_info_grid(\n",
    "    molecule, info, bit, max_examples=None, mols_per_row=3\n",
    "):\n",
    "    \"\"\"Highlight a bit in a given molecule.\"\"\"\n",
    "    atoms_to_highlight = []\n",
    "    bonds_to_highlight = []\n",
    "    atoms_to_highlight_colors = []\n",
    "    bonds_to_highlight_colors = []\n",
    "    molecules_to_draw = []\n",
    "    for i, example in enumerate(info[bit]):\n",
    "        if max_examples is not None and i + 1 > max_examples:\n",
    "            break\n",
    "        center, radius = example\n",
    "        atoms, bonds, atom_colors, bond_colors = get_environment(\n",
    "            molecule, center, radius\n",
    "        )\n",
    "        atoms_to_highlight.append(atoms)\n",
    "        bonds_to_highlight.append(bonds)\n",
    "        atoms_to_highlight_colors.append(atom_colors)\n",
    "        bonds_to_highlight_colors.append(bond_colors)\n",
    "        molecules_to_draw.append(molecule)\n",
    "\n",
    "    options = Draw.rdMolDraw2D.MolDrawOptions()\n",
    "    options.prepareMolsForDrawing = True\n",
    "    options.fillHighlights = True\n",
    "    return Draw.MolsToGridImage(\n",
    "        molecules_to_draw,\n",
    "        molsPerRow=min(mols_per_row, len(molecules_to_draw)),\n",
    "        subImgSize=(200, 200),\n",
    "        highlightAtomLists=atoms_to_highlight,\n",
    "        highlightBondLists=bonds_to_highlight,\n",
    "        highlightAtomColors=atoms_to_highlight_colors,\n",
    "        highlightBondColors=bonds_to_highlight_colors,\n",
    "        drawOptions=options,\n",
    "    )"
   ]
  },
  {
   "cell_type": "code",
   "execution_count": null,
   "id": "ca16c70d",
   "metadata": {},
   "outputs": [],
   "source": [
    "draw_molecule_and_bit_info_grid(niacinamide, info, 1043)"
   ]
  },
  {
   "cell_type": "markdown",
   "id": "4dcba8c5",
   "metadata": {},
   "source": [
    "Let us also make a variant that will show all on bits, but we keep it to a single example per bit:"
   ]
  },
  {
   "cell_type": "code",
   "execution_count": null,
   "id": "00feeb55",
   "metadata": {},
   "outputs": [],
   "source": [
    "def show_all_on_bits(molecule, info):\n",
    "    \"\"\"Draw all on bits\"\"\"\n",
    "    atoms_to_highlight = []\n",
    "    bonds_to_highlight = []\n",
    "    atoms_to_highlight_colors = []\n",
    "    bonds_to_highlight_colors = []\n",
    "    molecules_to_draw = []\n",
    "    legends = []\n",
    "    for key in sorted(info.keys()):\n",
    "        center, radius = info[key][0]\n",
    "        legends.append(f\"Bit {key}\")\n",
    "        atoms, bonds, atom_colors, bond_colors = get_environment(\n",
    "            molecule, center, radius\n",
    "        )\n",
    "        atoms_to_highlight.append(atoms)\n",
    "        bonds_to_highlight.append(bonds)\n",
    "        atoms_to_highlight_colors.append(atom_colors)\n",
    "        bonds_to_highlight_colors.append(bond_colors)\n",
    "        molecules_to_draw.append(molecule)\n",
    "\n",
    "    options = Draw.rdMolDraw2D.MolDrawOptions()\n",
    "    options.prepareMolsForDrawing = True\n",
    "    options.fillHighlights = True\n",
    "    return Draw.MolsToGridImage(\n",
    "        molecules_to_draw,\n",
    "        molsPerRow=min(5, len(molecules_to_draw)),\n",
    "        subImgSize=(150, 150),\n",
    "        legends=legends,\n",
    "        highlightAtomLists=atoms_to_highlight,\n",
    "        highlightBondLists=bonds_to_highlight,\n",
    "        highlightAtomColors=atoms_to_highlight_colors,\n",
    "        highlightBondColors=bonds_to_highlight_colors,\n",
    "        drawOptions=options,\n",
    "    )"
   ]
  },
  {
   "cell_type": "code",
   "execution_count": null,
   "id": "cf0b02f3",
   "metadata": {},
   "outputs": [],
   "source": [
    "show_all_on_bits(niacinamide, info)"
   ]
  }
 ],
 "metadata": {
  "kernelspec": {
   "display_name": "Python 3 (ipykernel)",
   "language": "python",
   "name": "python3"
  },
  "language_info": {
   "codemirror_mode": {
    "name": "ipython",
    "version": 3
   },
   "file_extension": ".py",
   "mimetype": "text/x-python",
   "name": "python",
   "nbconvert_exporter": "python",
   "pygments_lexer": "ipython3",
   "version": "3.9.13"
  }
 },
 "nbformat": 4,
 "nbformat_minor": 5
}
